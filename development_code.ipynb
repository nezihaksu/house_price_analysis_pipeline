{
 "cells": [
  {
   "cell_type": "code",
   "execution_count": null,
   "id": "a78de922",
   "metadata": {},
   "outputs": [],
   "source": [
    "import polars as pl\n",
    "import duckdb\n",
    "from typing import List\n",
    "import os\n"
   ]
  }
 ],
 "metadata": {
  "language_info": {
   "name": "python"
  }
 },
 "nbformat": 4,
 "nbformat_minor": 5
}
